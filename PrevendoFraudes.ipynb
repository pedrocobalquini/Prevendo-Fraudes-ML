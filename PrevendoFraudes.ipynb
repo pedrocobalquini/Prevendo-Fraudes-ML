{
 "cells": [
  {
   "cell_type": "markdown",
   "metadata": {},
   "source": [
    "## 1 - Limpeza dos dados"
   ]
  },
  {
   "cell_type": "code",
   "execution_count": 1,
   "metadata": {},
   "outputs": [],
   "source": [
    "import warnings\n",
    "import pandas as pd\n",
    "import matplotlib.pyplot as plt\n",
    "import seaborn as sns\n",
    "import time\n",
    "import numpy as np\n",
    "\n",
    "from sklearn.ensemble import RandomForestClassifier\n",
    "from sklearn.svm import SVC\n",
    "from sklearn.neighbors import KNeighborsClassifier\n",
    "\n",
    "from sklearn.model_selection import GridSearchCV\n",
    "from sklearn.model_selection import train_test_split\n",
    "from sklearn.preprocessing import LabelEncoder\n",
    "from imblearn.over_sampling import SMOTE\n",
    "from sklearn.preprocessing import MinMaxScaler\n",
    "#from sklearn.preprocessing import StandardScaler\n",
    "#from sklearn.metrics import r2_score\n",
    "#from imblearn import under_sampling, over_sampling\n",
    "warnings.filterwarnings(\"ignore\") \n",
    "pd.set_option('display.max_columns', None)\n",
    "pd.set_option('display.max_rows', None)"
   ]
  },
  {
   "cell_type": "code",
   "execution_count": 2,
   "metadata": {},
   "outputs": [],
   "source": [
    "bd = pd.read_csv('dados_coletados10k.csv')"
   ]
  },
  {
   "cell_type": "code",
   "execution_count": 3,
   "metadata": {},
   "outputs": [
    {
     "name": "stdout",
     "output_type": "stream",
     "text": [
      "<class 'pandas.core.frame.DataFrame'>\n",
      "RangeIndex: 9517 entries, 0 to 9516\n",
      "Data columns (total 24 columns):\n",
      " #   Column                            Non-Null Count  Dtype  \n",
      "---  ------                            --------------  -----  \n",
      " 0   Contrato                          9517 non-null   int64  \n",
      " 1   Idade                             9517 non-null   int64  \n",
      " 2   Sexo                              9517 non-null   object \n",
      " 3   Valor_Renda                       9517 non-null   float64\n",
      " 4   UF_Cliente                        9517 non-null   object \n",
      " 5   Perc_Juros                        9517 non-null   float64\n",
      " 6   Prazo_Emprestimo                  9517 non-null   int64  \n",
      " 7   Data_Contratacao                  9517 non-null   object \n",
      " 8   Prazo_Restante                    9517 non-null   int64  \n",
      " 9   VL_Emprestimo                     9517 non-null   float64\n",
      " 10  VL_Emprestimo_ComJuros            9517 non-null   float64\n",
      " 11  QT_Total_Parcelas_Pagas           9517 non-null   int64  \n",
      " 12  QT_Total_Parcelas_Pagas_EmDia     9517 non-null   int64  \n",
      " 13  QT_Total_Parcelas_Pagas_EmAtraso  9517 non-null   int64  \n",
      " 14  Qt_Renegociacao                   9517 non-null   int64  \n",
      " 15  Estado_Civil                      9517 non-null   object \n",
      " 16  Escolaridade                      2412 non-null   object \n",
      " 17  Possui_Patrimonio                 9517 non-null   object \n",
      " 18  VL_Patrimonio                     9517 non-null   float64\n",
      " 19  QT_Parcelas_Atraso                9517 non-null   int64  \n",
      " 20  QT_Dias_Atraso                    5923 non-null   float64\n",
      " 21  Saldo_Devedor                     9517 non-null   float64\n",
      " 22  Total_Pago                        9517 non-null   float64\n",
      " 23  Possivel_Fraude                   9517 non-null   object \n",
      "dtypes: float64(8), int64(9), object(7)\n",
      "memory usage: 1.7+ MB\n"
     ]
    }
   ],
   "source": [
    "bd.info()"
   ]
  },
  {
   "cell_type": "code",
   "execution_count": 4,
   "metadata": {},
   "outputs": [
    {
     "data": {
      "text/html": [
       "<div>\n",
       "<style scoped>\n",
       "    .dataframe tbody tr th:only-of-type {\n",
       "        vertical-align: middle;\n",
       "    }\n",
       "\n",
       "    .dataframe tbody tr th {\n",
       "        vertical-align: top;\n",
       "    }\n",
       "\n",
       "    .dataframe thead th {\n",
       "        text-align: right;\n",
       "    }\n",
       "</style>\n",
       "<table border=\"1\" class=\"dataframe\">\n",
       "  <thead>\n",
       "    <tr style=\"text-align: right;\">\n",
       "      <th></th>\n",
       "      <th>Contrato</th>\n",
       "      <th>Idade</th>\n",
       "      <th>Sexo</th>\n",
       "      <th>Valor_Renda</th>\n",
       "      <th>UF_Cliente</th>\n",
       "      <th>Perc_Juros</th>\n",
       "      <th>Prazo_Emprestimo</th>\n",
       "      <th>Data_Contratacao</th>\n",
       "      <th>Prazo_Restante</th>\n",
       "      <th>VL_Emprestimo</th>\n",
       "      <th>VL_Emprestimo_ComJuros</th>\n",
       "      <th>QT_Total_Parcelas_Pagas</th>\n",
       "      <th>QT_Total_Parcelas_Pagas_EmDia</th>\n",
       "      <th>QT_Total_Parcelas_Pagas_EmAtraso</th>\n",
       "      <th>Qt_Renegociacao</th>\n",
       "      <th>Estado_Civil</th>\n",
       "      <th>Escolaridade</th>\n",
       "      <th>Possui_Patrimonio</th>\n",
       "      <th>VL_Patrimonio</th>\n",
       "      <th>QT_Parcelas_Atraso</th>\n",
       "      <th>QT_Dias_Atraso</th>\n",
       "      <th>Saldo_Devedor</th>\n",
       "      <th>Total_Pago</th>\n",
       "      <th>Possivel_Fraude</th>\n",
       "    </tr>\n",
       "  </thead>\n",
       "  <tbody>\n",
       "    <tr>\n",
       "      <th>0</th>\n",
       "      <td>322068935715</td>\n",
       "      <td>43</td>\n",
       "      <td>M</td>\n",
       "      <td>5800.0</td>\n",
       "      <td>SP</td>\n",
       "      <td>23.0</td>\n",
       "      <td>200</td>\n",
       "      <td>2022-08-01</td>\n",
       "      <td>193</td>\n",
       "      <td>80000.0</td>\n",
       "      <td>92000.0</td>\n",
       "      <td>15</td>\n",
       "      <td>9</td>\n",
       "      <td>1</td>\n",
       "      <td>0</td>\n",
       "      <td>DIVORCIADO</td>\n",
       "      <td>Nenhum</td>\n",
       "      <td>N</td>\n",
       "      <td>0.0</td>\n",
       "      <td>0</td>\n",
       "      <td>NaN</td>\n",
       "      <td>91759.97</td>\n",
       "      <td>7717.08</td>\n",
       "      <td>Nao</td>\n",
       "    </tr>\n",
       "    <tr>\n",
       "      <th>1</th>\n",
       "      <td>322068936715</td>\n",
       "      <td>22</td>\n",
       "      <td>M</td>\n",
       "      <td>2000.0</td>\n",
       "      <td>MG</td>\n",
       "      <td>20.0</td>\n",
       "      <td>100</td>\n",
       "      <td>2022-08-01</td>\n",
       "      <td>89</td>\n",
       "      <td>50000.0</td>\n",
       "      <td>57500.0</td>\n",
       "      <td>10</td>\n",
       "      <td>10</td>\n",
       "      <td>0</td>\n",
       "      <td>0</td>\n",
       "      <td>SOLTEIRO(A)</td>\n",
       "      <td>NaN</td>\n",
       "      <td>N</td>\n",
       "      <td>0.0</td>\n",
       "      <td>4</td>\n",
       "      <td>103.0</td>\n",
       "      <td>53981.18</td>\n",
       "      <td>6756.59</td>\n",
       "      <td>Nao</td>\n",
       "    </tr>\n",
       "    <tr>\n",
       "      <th>2</th>\n",
       "      <td>322068938715</td>\n",
       "      <td>35</td>\n",
       "      <td>M</td>\n",
       "      <td>4000.0</td>\n",
       "      <td>BA</td>\n",
       "      <td>18.0</td>\n",
       "      <td>100</td>\n",
       "      <td>2022-08-01</td>\n",
       "      <td>85</td>\n",
       "      <td>100000.0</td>\n",
       "      <td>115000.0</td>\n",
       "      <td>15</td>\n",
       "      <td>5</td>\n",
       "      <td>1</td>\n",
       "      <td>0</td>\n",
       "      <td>CASADO (A)</td>\n",
       "      <td>NaN</td>\n",
       "      <td>N</td>\n",
       "      <td>0.0</td>\n",
       "      <td>0</td>\n",
       "      <td>NaN</td>\n",
       "      <td>101150.02</td>\n",
       "      <td>17929.06</td>\n",
       "      <td>Nao</td>\n",
       "    </tr>\n",
       "    <tr>\n",
       "      <th>3</th>\n",
       "      <td>322068939715</td>\n",
       "      <td>20</td>\n",
       "      <td>M</td>\n",
       "      <td>1800.0</td>\n",
       "      <td>MG</td>\n",
       "      <td>20.0</td>\n",
       "      <td>100</td>\n",
       "      <td>2022-08-01</td>\n",
       "      <td>89</td>\n",
       "      <td>30000.0</td>\n",
       "      <td>34500.0</td>\n",
       "      <td>1</td>\n",
       "      <td>1</td>\n",
       "      <td>0</td>\n",
       "      <td>0</td>\n",
       "      <td>SOLTEIRO(A)</td>\n",
       "      <td>NaN</td>\n",
       "      <td>N</td>\n",
       "      <td>0.0</td>\n",
       "      <td>13</td>\n",
       "      <td>376.0</td>\n",
       "      <td>36208.10</td>\n",
       "      <td>369.10</td>\n",
       "      <td>Sim</td>\n",
       "    </tr>\n",
       "    <tr>\n",
       "      <th>4</th>\n",
       "      <td>322068940715</td>\n",
       "      <td>53</td>\n",
       "      <td>M</td>\n",
       "      <td>2800.0</td>\n",
       "      <td>MG</td>\n",
       "      <td>20.0</td>\n",
       "      <td>100</td>\n",
       "      <td>2022-08-01</td>\n",
       "      <td>87</td>\n",
       "      <td>60000.0</td>\n",
       "      <td>69000.0</td>\n",
       "      <td>16</td>\n",
       "      <td>16</td>\n",
       "      <td>0</td>\n",
       "      <td>0</td>\n",
       "      <td>CASADO (A)</td>\n",
       "      <td>NaN</td>\n",
       "      <td>N</td>\n",
       "      <td>0.0</td>\n",
       "      <td>0</td>\n",
       "      <td>NaN</td>\n",
       "      <td>60984.00</td>\n",
       "      <td>11845.24</td>\n",
       "      <td>Nao</td>\n",
       "    </tr>\n",
       "  </tbody>\n",
       "</table>\n",
       "</div>"
      ],
      "text/plain": [
       "       Contrato  Idade Sexo  Valor_Renda UF_Cliente  Perc_Juros  \\\n",
       "0  322068935715     43    M       5800.0         SP        23.0   \n",
       "1  322068936715     22    M       2000.0         MG        20.0   \n",
       "2  322068938715     35    M       4000.0         BA        18.0   \n",
       "3  322068939715     20    M       1800.0         MG        20.0   \n",
       "4  322068940715     53    M       2800.0         MG        20.0   \n",
       "\n",
       "   Prazo_Emprestimo Data_Contratacao  Prazo_Restante  VL_Emprestimo  \\\n",
       "0               200       2022-08-01             193        80000.0   \n",
       "1               100       2022-08-01              89        50000.0   \n",
       "2               100       2022-08-01              85       100000.0   \n",
       "3               100       2022-08-01              89        30000.0   \n",
       "4               100       2022-08-01              87        60000.0   \n",
       "\n",
       "   VL_Emprestimo_ComJuros  QT_Total_Parcelas_Pagas  \\\n",
       "0                 92000.0                       15   \n",
       "1                 57500.0                       10   \n",
       "2                115000.0                       15   \n",
       "3                 34500.0                        1   \n",
       "4                 69000.0                       16   \n",
       "\n",
       "   QT_Total_Parcelas_Pagas_EmDia  QT_Total_Parcelas_Pagas_EmAtraso  \\\n",
       "0                              9                                 1   \n",
       "1                             10                                 0   \n",
       "2                              5                                 1   \n",
       "3                              1                                 0   \n",
       "4                             16                                 0   \n",
       "\n",
       "   Qt_Renegociacao Estado_Civil Escolaridade Possui_Patrimonio  VL_Patrimonio  \\\n",
       "0                0   DIVORCIADO       Nenhum                 N            0.0   \n",
       "1                0  SOLTEIRO(A)          NaN                 N            0.0   \n",
       "2                0   CASADO (A)          NaN                 N            0.0   \n",
       "3                0  SOLTEIRO(A)          NaN                 N            0.0   \n",
       "4                0   CASADO (A)          NaN                 N            0.0   \n",
       "\n",
       "   QT_Parcelas_Atraso  QT_Dias_Atraso  Saldo_Devedor  Total_Pago  \\\n",
       "0                   0             NaN       91759.97     7717.08   \n",
       "1                   4           103.0       53981.18     6756.59   \n",
       "2                   0             NaN      101150.02    17929.06   \n",
       "3                  13           376.0       36208.10      369.10   \n",
       "4                   0             NaN       60984.00    11845.24   \n",
       "\n",
       "  Possivel_Fraude  \n",
       "0             Nao  \n",
       "1             Nao  \n",
       "2             Nao  \n",
       "3             Sim  \n",
       "4             Nao  "
      ]
     },
     "execution_count": 4,
     "metadata": {},
     "output_type": "execute_result"
    }
   ],
   "source": [
    "bd.head()"
   ]
  },
  {
   "cell_type": "code",
   "execution_count": 5,
   "metadata": {},
   "outputs": [
    {
     "data": {
      "text/html": [
       "<div>\n",
       "<style scoped>\n",
       "    .dataframe tbody tr th:only-of-type {\n",
       "        vertical-align: middle;\n",
       "    }\n",
       "\n",
       "    .dataframe tbody tr th {\n",
       "        vertical-align: top;\n",
       "    }\n",
       "\n",
       "    .dataframe thead th {\n",
       "        text-align: right;\n",
       "    }\n",
       "</style>\n",
       "<table border=\"1\" class=\"dataframe\">\n",
       "  <thead>\n",
       "    <tr style=\"text-align: right;\">\n",
       "      <th></th>\n",
       "      <th>count</th>\n",
       "      <th>mean</th>\n",
       "      <th>std</th>\n",
       "      <th>min</th>\n",
       "      <th>25%</th>\n",
       "      <th>50%</th>\n",
       "      <th>75%</th>\n",
       "      <th>max</th>\n",
       "    </tr>\n",
       "  </thead>\n",
       "  <tbody>\n",
       "    <tr>\n",
       "      <th>Contrato</th>\n",
       "      <td>9517.0</td>\n",
       "      <td>3.220782e+11</td>\n",
       "      <td>5.434161e+06</td>\n",
       "      <td>3.220689e+11</td>\n",
       "      <td>3.220733e+11</td>\n",
       "      <td>3.220785e+11</td>\n",
       "      <td>3.220826e+11</td>\n",
       "      <td>3.220876e+11</td>\n",
       "    </tr>\n",
       "    <tr>\n",
       "      <th>Idade</th>\n",
       "      <td>9517.0</td>\n",
       "      <td>3.873868e+01</td>\n",
       "      <td>1.267480e+01</td>\n",
       "      <td>6.000000e+00</td>\n",
       "      <td>2.900000e+01</td>\n",
       "      <td>3.700000e+01</td>\n",
       "      <td>4.600000e+01</td>\n",
       "      <td>9.100000e+01</td>\n",
       "    </tr>\n",
       "    <tr>\n",
       "      <th>Valor_Renda</th>\n",
       "      <td>9517.0</td>\n",
       "      <td>8.325404e+03</td>\n",
       "      <td>1.218621e+05</td>\n",
       "      <td>4.500000e+02</td>\n",
       "      <td>2.300000e+03</td>\n",
       "      <td>3.400000e+03</td>\n",
       "      <td>5.000000e+03</td>\n",
       "      <td>8.000080e+06</td>\n",
       "    </tr>\n",
       "    <tr>\n",
       "      <th>Perc_Juros</th>\n",
       "      <td>9517.0</td>\n",
       "      <td>1.964573e+01</td>\n",
       "      <td>3.820652e+00</td>\n",
       "      <td>7.000000e+00</td>\n",
       "      <td>1.800000e+01</td>\n",
       "      <td>2.000000e+01</td>\n",
       "      <td>2.200000e+01</td>\n",
       "      <td>2.800000e+01</td>\n",
       "    </tr>\n",
       "    <tr>\n",
       "      <th>Prazo_Emprestimo</th>\n",
       "      <td>9517.0</td>\n",
       "      <td>1.074253e+02</td>\n",
       "      <td>6.248880e+01</td>\n",
       "      <td>1.500000e+01</td>\n",
       "      <td>6.000000e+01</td>\n",
       "      <td>8.000000e+01</td>\n",
       "      <td>1.900000e+02</td>\n",
       "      <td>2.400000e+02</td>\n",
       "    </tr>\n",
       "    <tr>\n",
       "      <th>Prazo_Restante</th>\n",
       "      <td>9517.0</td>\n",
       "      <td>1.045835e+02</td>\n",
       "      <td>6.856821e+01</td>\n",
       "      <td>0.000000e+00</td>\n",
       "      <td>5.100000e+01</td>\n",
       "      <td>8.000000e+01</td>\n",
       "      <td>1.850000e+02</td>\n",
       "      <td>2.270000e+02</td>\n",
       "    </tr>\n",
       "    <tr>\n",
       "      <th>VL_Emprestimo</th>\n",
       "      <td>9517.0</td>\n",
       "      <td>8.188189e+04</td>\n",
       "      <td>9.413806e+04</td>\n",
       "      <td>3.500000e+03</td>\n",
       "      <td>2.000000e+04</td>\n",
       "      <td>5.000000e+04</td>\n",
       "      <td>1.000000e+05</td>\n",
       "      <td>5.000000e+05</td>\n",
       "    </tr>\n",
       "    <tr>\n",
       "      <th>VL_Emprestimo_ComJuros</th>\n",
       "      <td>9517.0</td>\n",
       "      <td>9.416417e+04</td>\n",
       "      <td>1.082588e+05</td>\n",
       "      <td>4.025000e+03</td>\n",
       "      <td>2.300000e+04</td>\n",
       "      <td>5.750000e+04</td>\n",
       "      <td>1.150000e+05</td>\n",
       "      <td>5.750000e+05</td>\n",
       "    </tr>\n",
       "    <tr>\n",
       "      <th>QT_Total_Parcelas_Pagas</th>\n",
       "      <td>9517.0</td>\n",
       "      <td>7.893139e+00</td>\n",
       "      <td>5.165751e+00</td>\n",
       "      <td>0.000000e+00</td>\n",
       "      <td>2.000000e+00</td>\n",
       "      <td>9.000000e+00</td>\n",
       "      <td>1.300000e+01</td>\n",
       "      <td>3.500000e+01</td>\n",
       "    </tr>\n",
       "    <tr>\n",
       "      <th>QT_Total_Parcelas_Pagas_EmDia</th>\n",
       "      <td>9517.0</td>\n",
       "      <td>4.108122e+00</td>\n",
       "      <td>4.040356e+00</td>\n",
       "      <td>0.000000e+00</td>\n",
       "      <td>1.000000e+00</td>\n",
       "      <td>2.000000e+00</td>\n",
       "      <td>6.000000e+00</td>\n",
       "      <td>3.500000e+01</td>\n",
       "    </tr>\n",
       "    <tr>\n",
       "      <th>QT_Total_Parcelas_Pagas_EmAtraso</th>\n",
       "      <td>9517.0</td>\n",
       "      <td>1.597247e+00</td>\n",
       "      <td>2.313021e+00</td>\n",
       "      <td>0.000000e+00</td>\n",
       "      <td>0.000000e+00</td>\n",
       "      <td>1.000000e+00</td>\n",
       "      <td>2.000000e+00</td>\n",
       "      <td>1.400000e+01</td>\n",
       "    </tr>\n",
       "    <tr>\n",
       "      <th>Qt_Renegociacao</th>\n",
       "      <td>9517.0</td>\n",
       "      <td>1.242093e+00</td>\n",
       "      <td>1.165580e+00</td>\n",
       "      <td>0.000000e+00</td>\n",
       "      <td>0.000000e+00</td>\n",
       "      <td>1.000000e+00</td>\n",
       "      <td>2.000000e+00</td>\n",
       "      <td>9.000000e+00</td>\n",
       "    </tr>\n",
       "    <tr>\n",
       "      <th>VL_Patrimonio</th>\n",
       "      <td>9517.0</td>\n",
       "      <td>1.092781e+01</td>\n",
       "      <td>1.025262e+03</td>\n",
       "      <td>0.000000e+00</td>\n",
       "      <td>0.000000e+00</td>\n",
       "      <td>0.000000e+00</td>\n",
       "      <td>0.000000e+00</td>\n",
       "      <td>1.000000e+05</td>\n",
       "    </tr>\n",
       "    <tr>\n",
       "      <th>QT_Parcelas_Atraso</th>\n",
       "      <td>9517.0</td>\n",
       "      <td>5.353788e+00</td>\n",
       "      <td>5.320100e+00</td>\n",
       "      <td>0.000000e+00</td>\n",
       "      <td>0.000000e+00</td>\n",
       "      <td>4.000000e+00</td>\n",
       "      <td>1.100000e+01</td>\n",
       "      <td>1.500000e+01</td>\n",
       "    </tr>\n",
       "    <tr>\n",
       "      <th>QT_Dias_Atraso</th>\n",
       "      <td>5923.0</td>\n",
       "      <td>2.497898e+02</td>\n",
       "      <td>1.232219e+02</td>\n",
       "      <td>1.100000e+01</td>\n",
       "      <td>1.620000e+02</td>\n",
       "      <td>2.840000e+02</td>\n",
       "      <td>3.440000e+02</td>\n",
       "      <td>4.350000e+02</td>\n",
       "    </tr>\n",
       "    <tr>\n",
       "      <th>Saldo_Devedor</th>\n",
       "      <td>9517.0</td>\n",
       "      <td>9.056027e+04</td>\n",
       "      <td>1.110505e+05</td>\n",
       "      <td>0.000000e+00</td>\n",
       "      <td>1.854685e+04</td>\n",
       "      <td>4.537530e+04</td>\n",
       "      <td>1.197212e+05</td>\n",
       "      <td>6.250000e+05</td>\n",
       "    </tr>\n",
       "    <tr>\n",
       "      <th>Total_Pago</th>\n",
       "      <td>9517.0</td>\n",
       "      <td>8.166207e+03</td>\n",
       "      <td>1.669776e+04</td>\n",
       "      <td>0.000000e+00</td>\n",
       "      <td>1.202040e+03</td>\n",
       "      <td>3.949910e+03</td>\n",
       "      <td>8.302010e+03</td>\n",
       "      <td>3.963850e+05</td>\n",
       "    </tr>\n",
       "  </tbody>\n",
       "</table>\n",
       "</div>"
      ],
      "text/plain": [
       "                                   count          mean           std  \\\n",
       "Contrato                          9517.0  3.220782e+11  5.434161e+06   \n",
       "Idade                             9517.0  3.873868e+01  1.267480e+01   \n",
       "Valor_Renda                       9517.0  8.325404e+03  1.218621e+05   \n",
       "Perc_Juros                        9517.0  1.964573e+01  3.820652e+00   \n",
       "Prazo_Emprestimo                  9517.0  1.074253e+02  6.248880e+01   \n",
       "Prazo_Restante                    9517.0  1.045835e+02  6.856821e+01   \n",
       "VL_Emprestimo                     9517.0  8.188189e+04  9.413806e+04   \n",
       "VL_Emprestimo_ComJuros            9517.0  9.416417e+04  1.082588e+05   \n",
       "QT_Total_Parcelas_Pagas           9517.0  7.893139e+00  5.165751e+00   \n",
       "QT_Total_Parcelas_Pagas_EmDia     9517.0  4.108122e+00  4.040356e+00   \n",
       "QT_Total_Parcelas_Pagas_EmAtraso  9517.0  1.597247e+00  2.313021e+00   \n",
       "Qt_Renegociacao                   9517.0  1.242093e+00  1.165580e+00   \n",
       "VL_Patrimonio                     9517.0  1.092781e+01  1.025262e+03   \n",
       "QT_Parcelas_Atraso                9517.0  5.353788e+00  5.320100e+00   \n",
       "QT_Dias_Atraso                    5923.0  2.497898e+02  1.232219e+02   \n",
       "Saldo_Devedor                     9517.0  9.056027e+04  1.110505e+05   \n",
       "Total_Pago                        9517.0  8.166207e+03  1.669776e+04   \n",
       "\n",
       "                                           min           25%           50%  \\\n",
       "Contrato                          3.220689e+11  3.220733e+11  3.220785e+11   \n",
       "Idade                             6.000000e+00  2.900000e+01  3.700000e+01   \n",
       "Valor_Renda                       4.500000e+02  2.300000e+03  3.400000e+03   \n",
       "Perc_Juros                        7.000000e+00  1.800000e+01  2.000000e+01   \n",
       "Prazo_Emprestimo                  1.500000e+01  6.000000e+01  8.000000e+01   \n",
       "Prazo_Restante                    0.000000e+00  5.100000e+01  8.000000e+01   \n",
       "VL_Emprestimo                     3.500000e+03  2.000000e+04  5.000000e+04   \n",
       "VL_Emprestimo_ComJuros            4.025000e+03  2.300000e+04  5.750000e+04   \n",
       "QT_Total_Parcelas_Pagas           0.000000e+00  2.000000e+00  9.000000e+00   \n",
       "QT_Total_Parcelas_Pagas_EmDia     0.000000e+00  1.000000e+00  2.000000e+00   \n",
       "QT_Total_Parcelas_Pagas_EmAtraso  0.000000e+00  0.000000e+00  1.000000e+00   \n",
       "Qt_Renegociacao                   0.000000e+00  0.000000e+00  1.000000e+00   \n",
       "VL_Patrimonio                     0.000000e+00  0.000000e+00  0.000000e+00   \n",
       "QT_Parcelas_Atraso                0.000000e+00  0.000000e+00  4.000000e+00   \n",
       "QT_Dias_Atraso                    1.100000e+01  1.620000e+02  2.840000e+02   \n",
       "Saldo_Devedor                     0.000000e+00  1.854685e+04  4.537530e+04   \n",
       "Total_Pago                        0.000000e+00  1.202040e+03  3.949910e+03   \n",
       "\n",
       "                                           75%           max  \n",
       "Contrato                          3.220826e+11  3.220876e+11  \n",
       "Idade                             4.600000e+01  9.100000e+01  \n",
       "Valor_Renda                       5.000000e+03  8.000080e+06  \n",
       "Perc_Juros                        2.200000e+01  2.800000e+01  \n",
       "Prazo_Emprestimo                  1.900000e+02  2.400000e+02  \n",
       "Prazo_Restante                    1.850000e+02  2.270000e+02  \n",
       "VL_Emprestimo                     1.000000e+05  5.000000e+05  \n",
       "VL_Emprestimo_ComJuros            1.150000e+05  5.750000e+05  \n",
       "QT_Total_Parcelas_Pagas           1.300000e+01  3.500000e+01  \n",
       "QT_Total_Parcelas_Pagas_EmDia     6.000000e+00  3.500000e+01  \n",
       "QT_Total_Parcelas_Pagas_EmAtraso  2.000000e+00  1.400000e+01  \n",
       "Qt_Renegociacao                   2.000000e+00  9.000000e+00  \n",
       "VL_Patrimonio                     0.000000e+00  1.000000e+05  \n",
       "QT_Parcelas_Atraso                1.100000e+01  1.500000e+01  \n",
       "QT_Dias_Atraso                    3.440000e+02  4.350000e+02  \n",
       "Saldo_Devedor                     1.197212e+05  6.250000e+05  \n",
       "Total_Pago                        8.302010e+03  3.963850e+05  "
      ]
     },
     "execution_count": 5,
     "metadata": {},
     "output_type": "execute_result"
    }
   ],
   "source": [
    "bd.describe().T"
   ]
  },
  {
   "cell_type": "code",
   "execution_count": 6,
   "metadata": {},
   "outputs": [
    {
     "data": {
      "text/plain": [
       "np.int64(0)"
      ]
     },
     "execution_count": 6,
     "metadata": {},
     "output_type": "execute_result"
    }
   ],
   "source": [
    "bd.duplicated().sum()"
   ]
  },
  {
   "cell_type": "code",
   "execution_count": 7,
   "metadata": {},
   "outputs": [
    {
     "data": {
      "text/plain": [
       "Contrato                            9517\n",
       "Idade                                 74\n",
       "Sexo                                   2\n",
       "Valor_Renda                          855\n",
       "UF_Cliente                            27\n",
       "Perc_Juros                            21\n",
       "Prazo_Emprestimo                      36\n",
       "Data_Contratacao                     110\n",
       "Prazo_Restante                        79\n",
       "VL_Emprestimo                         61\n",
       "VL_Emprestimo_ComJuros                61\n",
       "QT_Total_Parcelas_Pagas               24\n",
       "QT_Total_Parcelas_Pagas_EmDia         24\n",
       "QT_Total_Parcelas_Pagas_EmAtraso      15\n",
       "Qt_Renegociacao                       10\n",
       "Estado_Civil                           6\n",
       "Escolaridade                           5\n",
       "Possui_Patrimonio                      2\n",
       "VL_Patrimonio                          3\n",
       "QT_Parcelas_Atraso                    16\n",
       "QT_Dias_Atraso                        15\n",
       "Saldo_Devedor                       7654\n",
       "Total_Pago                          7022\n",
       "Possivel_Fraude                        2\n",
       "dtype: int64"
      ]
     },
     "execution_count": 7,
     "metadata": {},
     "output_type": "execute_result"
    }
   ],
   "source": [
    "bd.nunique()"
   ]
  },
  {
   "cell_type": "code",
   "execution_count": 8,
   "metadata": {},
   "outputs": [
    {
     "data": {
      "text/plain": [
       "Escolaridade                        7105\n",
       "QT_Dias_Atraso                      3594\n",
       "Contrato                               0\n",
       "Idade                                  0\n",
       "UF_Cliente                             0\n",
       "Perc_Juros                             0\n",
       "Sexo                                   0\n",
       "Valor_Renda                            0\n",
       "Data_Contratacao                       0\n",
       "Prazo_Emprestimo                       0\n",
       "Prazo_Restante                         0\n",
       "VL_Emprestimo                          0\n",
       "QT_Total_Parcelas_Pagas_EmDia          0\n",
       "QT_Total_Parcelas_Pagas_EmAtraso       0\n",
       "VL_Emprestimo_ComJuros                 0\n",
       "QT_Total_Parcelas_Pagas                0\n",
       "Estado_Civil                           0\n",
       "Qt_Renegociacao                        0\n",
       "VL_Patrimonio                          0\n",
       "Possui_Patrimonio                      0\n",
       "QT_Parcelas_Atraso                     0\n",
       "Saldo_Devedor                          0\n",
       "Total_Pago                             0\n",
       "Possivel_Fraude                        0\n",
       "dtype: int64"
      ]
     },
     "execution_count": 8,
     "metadata": {},
     "output_type": "execute_result"
    }
   ],
   "source": [
    "bd.isnull().sum().sort_values(ascending=False).head(24)"
   ]
  },
  {
   "cell_type": "code",
   "execution_count": 9,
   "metadata": {},
   "outputs": [
    {
     "data": {
      "text/plain": [
       "np.float64(284.0)"
      ]
     },
     "execution_count": 9,
     "metadata": {},
     "output_type": "execute_result"
    }
   ],
   "source": [
    "# O melhor valor para a coluna QT_Dias_Atraso é a sua mediana\n",
    "\n",
    "bd['QT_Dias_Atraso'].median()"
   ]
  },
  {
   "cell_type": "code",
   "execution_count": 10,
   "metadata": {},
   "outputs": [],
   "source": [
    "bd['QT_Dias_Atraso'] = bd['QT_Dias_Atraso'].fillna((bd['QT_Dias_Atraso'].median()))"
   ]
  },
  {
   "cell_type": "code",
   "execution_count": 11,
   "metadata": {},
   "outputs": [
    {
     "data": {
      "text/plain": [
       "Sexo\n",
       "F    3811\n",
       "M    5706\n",
       "dtype: int64"
      ]
     },
     "execution_count": 11,
     "metadata": {},
     "output_type": "execute_result"
    }
   ],
   "source": [
    "bd.groupby(['Sexo']).size()"
   ]
  },
  {
   "cell_type": "code",
   "execution_count": 12,
   "metadata": {},
   "outputs": [
    {
     "data": {
      "text/plain": [
       "UF_Cliente\n",
       "AC       1\n",
       "AL      79\n",
       "AM       2\n",
       "AP       5\n",
       "BA     883\n",
       "CE     248\n",
       "DF      46\n",
       "ES      49\n",
       "GO     485\n",
       "MA     403\n",
       "MG    1637\n",
       "MS     238\n",
       "MT     137\n",
       "PA     420\n",
       "PB     154\n",
       "PE     263\n",
       "PI     104\n",
       "PR     693\n",
       "RJ     335\n",
       "RN      78\n",
       "RO      16\n",
       "RR       4\n",
       "RS     407\n",
       "SC     298\n",
       "SE      45\n",
       "SP    2468\n",
       "TO      19\n",
       "dtype: int64"
      ]
     },
     "execution_count": 12,
     "metadata": {},
     "output_type": "execute_result"
    }
   ],
   "source": [
    "bd.groupby(['UF_Cliente']).size()"
   ]
  },
  {
   "cell_type": "code",
   "execution_count": 13,
   "metadata": {},
   "outputs": [
    {
     "data": {
      "text/plain": [
       "Escolaridade\n",
       "Ensino Fundamental                        18\n",
       "Ensino Médio                             129\n",
       "Ensino Superior                           74\n",
       "Nenhum                                  2184\n",
       "Pós Graduação / Mestrado / Doutorado       7\n",
       "dtype: int64"
      ]
     },
     "execution_count": 13,
     "metadata": {},
     "output_type": "execute_result"
    }
   ],
   "source": [
    "bd.groupby(['Escolaridade']).size()"
   ]
  },
  {
   "cell_type": "code",
   "execution_count": 14,
   "metadata": {},
   "outputs": [
    {
     "data": {
      "text/plain": [
       "Possui_Patrimonio\n",
       "N    9452\n",
       "S      65\n",
       "dtype: int64"
      ]
     },
     "execution_count": 14,
     "metadata": {},
     "output_type": "execute_result"
    }
   ],
   "source": [
    "bd.groupby(['Possui_Patrimonio']).size()"
   ]
  },
  {
   "cell_type": "code",
   "execution_count": 15,
   "metadata": {},
   "outputs": [
    {
     "data": {
      "text/plain": [
       "VL_Patrimonio\n",
       "0.0         9512\n",
       "1000.0         4\n",
       "100000.0       1\n",
       "dtype: int64"
      ]
     },
     "execution_count": 15,
     "metadata": {},
     "output_type": "execute_result"
    }
   ],
   "source": [
    "bd.groupby(['VL_Patrimonio']).size()"
   ]
  },
  {
   "cell_type": "code",
   "execution_count": 16,
   "metadata": {},
   "outputs": [
    {
     "data": {
      "text/plain": [
       "Possivel_Fraude\n",
       "Nao    5035\n",
       "Sim    4482\n",
       "dtype: int64"
      ]
     },
     "execution_count": 16,
     "metadata": {},
     "output_type": "execute_result"
    }
   ],
   "source": [
    "bd.groupby(['Possivel_Fraude']).size()"
   ]
  },
  {
   "cell_type": "code",
   "execution_count": 17,
   "metadata": {},
   "outputs": [
    {
     "data": {
      "text/plain": [
       "Estado_Civil\n",
       "CASADO (A)       3027\n",
       "DIVORCIADO        481\n",
       "OUTRO             652\n",
       "SOLTEIRO(A)      5087\n",
       "UNIÃO ESTAVEL     130\n",
       "VIÚVO(A)          140\n",
       "dtype: int64"
      ]
     },
     "execution_count": 17,
     "metadata": {},
     "output_type": "execute_result"
    }
   ],
   "source": [
    "bd.groupby(['Estado_Civil']).size()"
   ]
  },
  {
   "cell_type": "code",
   "execution_count": 18,
   "metadata": {},
   "outputs": [
    {
     "data": {
      "text/plain": [
       "Estado_Civil\n",
       "CASADO (A)     3027\n",
       "OUTRO          1403\n",
       "SOLTEIRO(A)    5087\n",
       "dtype: int64"
      ]
     },
     "execution_count": 18,
     "metadata": {},
     "output_type": "execute_result"
    }
   ],
   "source": [
    "# Ajustando o Estado Civil\n",
    "\n",
    "bd['Estado_Civil'] = bd['Estado_Civil'].replace(['NENHUM', 'UNIÃO ESTAVEL', 'SEPARADO JUDICIALMENTE', 'DIVORCIADO', 'VIÚVO(A)'], 'OUTRO')\n",
    "\n",
    "bd.groupby(['Estado_Civil']).size()"
   ]
  },
  {
   "cell_type": "code",
   "execution_count": 19,
   "metadata": {},
   "outputs": [
    {
     "name": "stdout",
     "output_type": "stream",
     "text": [
      "Valor maximo 91 \n",
      " Valor minimo 6\n"
     ]
    }
   ],
   "source": [
    "maximo = bd['Idade'].max()\n",
    "minimo = bd['Idade'].min()\n",
    "\n",
    "print(f'Valor maximo {maximo}', '\\n', f'Valor minimo {minimo}')"
   ]
  },
  {
   "cell_type": "code",
   "execution_count": 20,
   "metadata": {},
   "outputs": [
    {
     "data": {
      "text/plain": [
       "Faixa_Etaria\n",
       "Até 20 anos          327\n",
       "De 21 a 30 anos     2539\n",
       "De 31 a 40 anos     2835\n",
       "De 41 a 50 anos     2132\n",
       "De 51 a 60 anos     1071\n",
       "Acima de 60 anos     613\n",
       "dtype: int64"
      ]
     },
     "execution_count": 20,
     "metadata": {},
     "output_type": "execute_result"
    }
   ],
   "source": [
    "# Engenharia de atributos - Idade\n",
    "\n",
    "bins = [0, 20, 30, 40, 50, 60, 110]\n",
    "labels = ['Até 20 anos', 'De 21 a 30 anos', 'De 31 a 40 anos', 'De 41 a 50 anos', 'De 51 a 60 anos', 'Acima de 60 anos']\n",
    "bd['Faixa_Etaria'] = pd.cut(bd['Idade'], bins=bins, labels=labels)\n",
    "bd.groupby(['Faixa_Etaria']).size()"
   ]
  },
  {
   "cell_type": "code",
   "execution_count": 21,
   "metadata": {},
   "outputs": [
    {
     "name": "stdout",
     "output_type": "stream",
     "text": [
      "Valor maximo 8000080.0 \n",
      " Valor minimo 450.0\n"
     ]
    }
   ],
   "source": [
    "maximo = bd['Valor_Renda'].max()\n",
    "minimo = bd['Valor_Renda'].min()\n",
    "\n",
    "print(f'Valor maximo {maximo}', '\\n', f'Valor minimo {minimo}')"
   ]
  },
  {
   "cell_type": "code",
   "execution_count": 22,
   "metadata": {},
   "outputs": [
    {
     "data": {
      "text/plain": [
       "Faixa_Salarial\n",
       "Até 1k              19\n",
       "De 1k até 2k      2012\n",
       "De 2k até 3k      2522\n",
       "De 3k até 5k      2646\n",
       "De 5k até 10k     1574\n",
       "De 10k até 20k     488\n",
       "De 20k até 30k     137\n",
       "Acima de 50k       119\n",
       "dtype: int64"
      ]
     },
     "execution_count": 22,
     "metadata": {},
     "output_type": "execute_result"
    }
   ],
   "source": [
    "# Engenharia de atributos - Faixa salarial\n",
    "\n",
    "bins = [-1, 1000, 2000, 3000, 5000, 10000, 20000, 30000, 9000000000]\n",
    "labels = ['Até 1k', 'De 1k até 2k', 'De 2k até 3k', 'De 3k até 5k', 'De 5k até 10k', 'De 10k até 20k',\n",
    "          'De 20k até 30k', 'Acima de 50k']\n",
    "bd['Faixa_Salarial'] = pd.cut(bd['Valor_Renda'], bins=bins, labels=labels)\n",
    "bd.groupby(['Faixa_Salarial']).size()"
   ]
  },
  {
   "cell_type": "code",
   "execution_count": 23,
   "metadata": {},
   "outputs": [
    {
     "name": "stdout",
     "output_type": "stream",
     "text": [
      "Valor maximo 435.0 \n",
      " Valor minimo 11.0\n"
     ]
    }
   ],
   "source": [
    "maximo = bd['QT_Dias_Atraso'].max()\n",
    "minimo = bd['QT_Dias_Atraso'].min()\n",
    "\n",
    "print(f'Valor maximo {maximo}', '\\n', f'Valor minimo {minimo}')"
   ]
  },
  {
   "cell_type": "code",
   "execution_count": 24,
   "metadata": {},
   "outputs": [
    {
     "data": {
      "text/plain": [
       "Faixa_Dias_Atraso\n",
       "Até 30 dias        532\n",
       "De 31 até 60       255\n",
       "De 61 até 90       190\n",
       "De 91 até 180      587\n",
       "De 181 até 240     593\n",
       "De 241 até 360    6259\n",
       "Acima de 360      1101\n",
       "dtype: int64"
      ]
     },
     "execution_count": 24,
     "metadata": {},
     "output_type": "execute_result"
    }
   ],
   "source": [
    "# Engenharia de atributos - Quantidade de dias em atraso\n",
    "\n",
    "bins = [-1, 30, 60, 90, 180, 240, 360, 1030]\n",
    "labels = ['Até 30 dias', 'De 31 até 60', 'De 61 até 90', 'De 91 até 180', 'De 181 até 240','De 241 até 360', 'Acima de 360']\n",
    "bd['Faixa_Dias_Atraso'] = pd.cut(bd['QT_Dias_Atraso'], bins=bins, labels=labels)\n",
    "bd.groupby(['Faixa_Dias_Atraso']).size()"
   ]
  },
  {
   "cell_type": "code",
   "execution_count": 25,
   "metadata": {},
   "outputs": [
    {
     "name": "stdout",
     "output_type": "stream",
     "text": [
      "Valor maximo 240 \n",
      " Valor minimo 15\n"
     ]
    }
   ],
   "source": [
    "maximo = bd['Prazo_Emprestimo'].max()\n",
    "minimo = bd['Prazo_Emprestimo'].min()\n",
    "\n",
    "print(f'Valor maximo {maximo}', '\\n', f'Valor minimo {minimo}')"
   ]
  },
  {
   "cell_type": "code",
   "execution_count": 26,
   "metadata": {},
   "outputs": [
    {
     "data": {
      "text/plain": [
       "Faixa_Prazo_Emprestimo\n",
       "Até 60 meses          2955\n",
       "De 61 a 120 meses     3567\n",
       "De 121 a 200 meses    2814\n",
       "Acima de 200 meses     181\n",
       "dtype: int64"
      ]
     },
     "execution_count": 26,
     "metadata": {},
     "output_type": "execute_result"
    }
   ],
   "source": [
    "# Engenharia de atributos - Faixa prazo emprestimo\n",
    "\n",
    "bins = [-1, 60, 120, 200, 720]\n",
    "labels = ['Até 60 meses', 'De 61 a 120 meses', 'De 121 a 200 meses', 'Acima de 200 meses']\n",
    "bd['Faixa_Prazo_Emprestimo'] = pd.cut(bd['Prazo_Emprestimo'], bins=bins, labels=labels)\n",
    "bd.groupby(['Faixa_Prazo_Emprestimo']).size()"
   ]
  },
  {
   "cell_type": "code",
   "execution_count": 27,
   "metadata": {},
   "outputs": [
    {
     "name": "stdout",
     "output_type": "stream",
     "text": [
      "Valor maximo 227 \n",
      " Valor minimo 0\n"
     ]
    }
   ],
   "source": [
    "maximo = bd['Prazo_Restante'].max()\n",
    "minimo = bd['Prazo_Restante'].min()\n",
    "\n",
    "print(f'Valor maximo {maximo}', '\\n', f'Valor minimo {minimo}')"
   ]
  },
  {
   "cell_type": "code",
   "execution_count": 28,
   "metadata": {},
   "outputs": [
    {
     "data": {
      "text/plain": [
       "Faixa_Prazo_Restante\n",
       "De 61 até 120 Meses     3679\n",
       "Até 60 Meses            2742\n",
       "De 121 até 200 Meses    2026\n",
       "Acima de 200 Meses      1070\n",
       "Name: count, dtype: int64"
      ]
     },
     "execution_count": 28,
     "metadata": {},
     "output_type": "execute_result"
    }
   ],
   "source": [
    "# Engenharia de atributos - Faixa prazo restante\n",
    "\n",
    "bins = [-100, 60, 120, 200, 500]\n",
    "labels = ['Até 60 Meses', 'De 61 até 120 Meses', 'De 121 até 200 Meses', 'Acima de 200 Meses']\n",
    "bd['Faixa_Prazo_Restante'] = pd.cut(bd['Prazo_Restante'], bins=bins, labels=labels)\n",
    "pd.value_counts(bd.Faixa_Prazo_Restante)"
   ]
  },
  {
   "cell_type": "markdown",
   "metadata": {},
   "source": [
    "## 2 - Novo dataset\n",
    "\n",
    "Nesta etapa foi criado um dataset novo, com as colunas mais importantes para a criação do modelo futuramente."
   ]
  },
  {
   "cell_type": "code",
   "execution_count": 29,
   "metadata": {},
   "outputs": [],
   "source": [
    "# Algumas colunas foram retiradas, sendo elas:\n",
    "\n",
    "# Contrato e Data_Contratacao - não tem relevância para o modelo\n",
    "# Possui_Patrimonio e VL_Patrimonio - as duas estão ligadas e apresentam mais valores 0 e não agregam para o modelo.\n",
    "# Sexo - antiético utilizar a variável\n",
    "# Estado Civil, Idade, Escolaridade - não tem relevãncia para o modelo\n",
    "\n",
    "columns = ['UF_Cliente', 'Perc_Juros', \n",
    "       'VL_Emprestimo', 'VL_Emprestimo_ComJuros', 'QT_Total_Parcelas_Pagas',\n",
    "       'QT_Total_Parcelas_Pagas_EmDia', 'QT_Total_Parcelas_Pagas_EmAtraso',\n",
    "       'Qt_Renegociacao', 'QT_Parcelas_Atraso', 'Saldo_Devedor', \n",
    "       'Total_Pago', 'Faixa_Prazo_Restante', 'Faixa_Salarial', 'Faixa_Prazo_Emprestimo', 'Faixa_Etaria', \n",
    "       'Faixa_Dias_Atraso', 'Possivel_Fraude']\n",
    "\n",
    "bd_novo = pd.DataFrame(bd, columns=columns)"
   ]
  },
  {
   "cell_type": "code",
   "execution_count": 30,
   "metadata": {},
   "outputs": [
    {
     "name": "stdout",
     "output_type": "stream",
     "text": [
      "<class 'pandas.core.frame.DataFrame'>\n",
      "RangeIndex: 9517 entries, 0 to 9516\n",
      "Data columns (total 17 columns):\n",
      " #   Column                            Non-Null Count  Dtype   \n",
      "---  ------                            --------------  -----   \n",
      " 0   UF_Cliente                        9517 non-null   object  \n",
      " 1   Perc_Juros                        9517 non-null   float64 \n",
      " 2   VL_Emprestimo                     9517 non-null   float64 \n",
      " 3   VL_Emprestimo_ComJuros            9517 non-null   float64 \n",
      " 4   QT_Total_Parcelas_Pagas           9517 non-null   int64   \n",
      " 5   QT_Total_Parcelas_Pagas_EmDia     9517 non-null   int64   \n",
      " 6   QT_Total_Parcelas_Pagas_EmAtraso  9517 non-null   int64   \n",
      " 7   Qt_Renegociacao                   9517 non-null   int64   \n",
      " 8   QT_Parcelas_Atraso                9517 non-null   int64   \n",
      " 9   Saldo_Devedor                     9517 non-null   float64 \n",
      " 10  Total_Pago                        9517 non-null   float64 \n",
      " 11  Faixa_Prazo_Restante              9517 non-null   category\n",
      " 12  Faixa_Salarial                    9517 non-null   category\n",
      " 13  Faixa_Prazo_Emprestimo            9517 non-null   category\n",
      " 14  Faixa_Etaria                      9517 non-null   category\n",
      " 15  Faixa_Dias_Atraso                 9517 non-null   category\n",
      " 16  Possivel_Fraude                   9517 non-null   object  \n",
      "dtypes: category(5), float64(5), int64(5), object(2)\n",
      "memory usage: 940.1+ KB\n"
     ]
    }
   ],
   "source": [
    "bd_novo.info()"
   ]
  },
  {
   "cell_type": "code",
   "execution_count": 31,
   "metadata": {},
   "outputs": [
    {
     "data": {
      "text/plain": [
       "UF_Cliente                          0\n",
       "Perc_Juros                          0\n",
       "VL_Emprestimo                       0\n",
       "VL_Emprestimo_ComJuros              0\n",
       "QT_Total_Parcelas_Pagas             0\n",
       "QT_Total_Parcelas_Pagas_EmDia       0\n",
       "QT_Total_Parcelas_Pagas_EmAtraso    0\n",
       "Qt_Renegociacao                     0\n",
       "QT_Parcelas_Atraso                  0\n",
       "Saldo_Devedor                       0\n",
       "Total_Pago                          0\n",
       "Faixa_Prazo_Restante                0\n",
       "Faixa_Salarial                      0\n",
       "Faixa_Prazo_Emprestimo              0\n",
       "Faixa_Etaria                        0\n",
       "Faixa_Dias_Atraso                   0\n",
       "Possivel_Fraude                     0\n",
       "dtype: int64"
      ]
     },
     "execution_count": 31,
     "metadata": {},
     "output_type": "execute_result"
    }
   ],
   "source": [
    "bd_novo.isnull().sum()"
   ]
  },
  {
   "cell_type": "markdown",
   "metadata": {},
   "source": [
    "## 3- Visualização dos dados\n",
    "\n",
    "### 3.1 - Dados categóricos"
   ]
  },
  {
   "cell_type": "code",
   "execution_count": 32,
   "metadata": {},
   "outputs": [
    {
     "data": {
      "image/png": "[encoded data removed]",
      "text/plain": [
       "<Figure size 1000x600 with 1 Axes>"
      ]
     },
     "metadata": {},
     "output_type": "display_data"
    }
   ],
   "source": [
    "plt.figure(figsize=(10, 6))\n",
    "\n",
    "sns.countplot(data=bd_novo, x=\"UF_Cliente\", hue=\"Possivel_Fraude\")\n",
    "\n",
    "plt.title('Distribuição por regiões', fontsize=20, loc='left')\n",
    "plt.xlabel('Local', fontsize=15, color='#696969')\n",
    "plt.ylabel('Ocorrências', fontsize=15, color='#696969')\n",
    "\n",
    "plt.gca().set_facecolor('#E0E0E0')\n",
    "plt.gcf().set_facecolor('#E0E0E0')\n",
    "\n",
    "plt.show()"
   ]
  },
  {
   "cell_type": "code",
   "execution_count": 33,
   "metadata": {},
   "outputs": [
    {
     "data": {
      "image/png": "[encoded data removed]",
      "text/plain": [
       "<Figure size 1000x600 with 1 Axes>"
      ]
     },
     "metadata": {},
     "output_type": "display_data"
    }
   ],
   "source": [
    "plt.figure(figsize=(10, 6))\n",
    "\n",
    "sns.countplot(data=bd_novo, x=\"Faixa_Prazo_Restante\", hue=\"Possivel_Fraude\")\n",
    "\n",
    "plt.title('Prazo Restante', fontsize=20, loc='left')\n",
    "plt.xlabel('Status', fontsize=15, color='#696969')\n",
    "plt.ylabel('Ocorrências', fontsize=15, color='#696969')\n",
    "\n",
    "plt.gca().set_facecolor('#E0E0E0')\n",
    "plt.gcf().set_facecolor('#E0E0E0')\n",
    "\n",
    "plt.show()"
   ]
  },
  {
   "cell_type": "code",
   "execution_count": 34,
   "metadata": {},
   "outputs": [
    {
     "data": {
      "image/png": "[encoded data removed]",
      "text/plain": [
       "<Figure size 1000x600 with 1 Axes>"
      ]
     },
     "metadata": {},
     "output_type": "display_data"
    }
   ],
   "source": [
    "plt.figure(figsize=(10, 6))\n",
    "\n",
    "sns.countplot(data=bd_novo, x=\"Faixa_Salarial\", hue=\"Possivel_Fraude\")\n",
    "\n",
    "plt.title('Faixa Salarial', fontsize=20, loc='left')\n",
    "plt.xlabel('Status', fontsize=15, color='#696969')\n",
    "plt.ylabel('Ocorrências', fontsize=15, color='#696969')\n",
    "\n",
    "plt.gca().set_facecolor('#E0E0E0')\n",
    "plt.gcf().set_facecolor('#E0E0E0')\n",
    "\n",
    "plt.show()"
   ]
  },
  {
   "cell_type": "code",
   "execution_count": 35,
   "metadata": {},
   "outputs": [
    {
     "data": {
      "image/png": "[encoded data removed]",
      "text/plain": [
       "<Figure size 1000x600 with 1 Axes>"
      ]
     },
     "metadata": {},
     "output_type": "display_data"
    }
   ],
   "source": [
    "plt.figure(figsize=(10, 6))\n",
    "\n",
    "sns.countplot(data=bd_novo, x=\"Faixa_Prazo_Emprestimo\", hue=\"Possivel_Fraude\")\n",
    "\n",
    "plt.title('Faixa de prazo de emprestimo', fontsize=20, loc='left')\n",
    "plt.xlabel('Status', fontsize=15, color='#696969')\n",
    "plt.ylabel('Ocorrências', fontsize=15, color='#696969')\n",
    "\n",
    "plt.gca().set_facecolor('#E0E0E0')\n",
    "plt.gcf().set_facecolor('#E0E0E0')\n",
    "\n",
    "plt.show()"
   ]
  },
  {
   "cell_type": "code",
   "execution_count": 36,
   "metadata": {},
   "outputs": [
    {
     "data": {
      "image/png": "[encoded data removed]",
      "text/plain": [
       "<Figure size 1000x600 with 1 Axes>"
      ]
     },
     "metadata": {},
     "output_type": "display_data"
    }
   ],
   "source": [
    "plt.figure(figsize=(10, 6))\n",
    "\n",
    "sns.countplot(data=bd_novo, x=\"Faixa_Etaria\", hue=\"Possivel_Fraude\")\n",
    "\n",
    "plt.title('Faixa etaria', fontsize=20, loc='left')\n",
    "plt.xlabel('Status', fontsize=15, color='#696969')\n",
    "plt.ylabel('Ocorrências', fontsize=15, color='#696969')\n",
    "\n",
    "plt.gca().set_facecolor('#E0E0E0')\n",
    "plt.gcf().set_facecolor('#E0E0E0')\n",
    "\n",
    "plt.show()"
   ]
  },
  {
   "cell_type": "code",
   "execution_count": 37,
   "metadata": {},
   "outputs": [
    {
     "data": {
      "image/png": "[encoded data removed]",
      "text/plain": [
       "<Figure size 1000x600 with 1 Axes>"
      ]
     },
     "metadata": {},
     "output_type": "display_data"
    }
   ],
   "source": [
    "plt.figure(figsize=(10, 6))\n",
    "\n",
    "sns.countplot(data=bd_novo, x=\"Faixa_Dias_Atraso\", hue=\"Possivel_Fraude\")\n",
    "\n",
    "plt.title('Faixa dias de atraso', fontsize=20, loc='left')\n",
    "plt.xlabel('Status', fontsize=15, color='#696969')\n",
    "plt.ylabel('Ocorrências', fontsize=15, color='#696969')\n",
    "\n",
    "plt.gca().set_facecolor('#E0E0E0')\n",
    "plt.gcf().set_facecolor('#E0E0E0')\n",
    "\n",
    "plt.show()"
   ]
  },
  {
   "cell_type": "code",
   "execution_count": 38,
   "metadata": {},
   "outputs": [
    {
     "data": {
      "image/png": "[encoded data removed]",
      "text/plain": [
       "<Figure size 1000x600 with 1 Axes>"
      ]
     },
     "metadata": {},
     "output_type": "display_data"
    }
   ],
   "source": [
    "# Variável alvo.\n",
    "\n",
    "plt.figure(figsize=(10, 6))\n",
    "\n",
    "sns.countplot(data=bd_novo, x=\"Possivel_Fraude\", hue=\"Possivel_Fraude\")\n",
    "\n",
    "plt.title('Possivel Fraude', fontsize=20, loc='left')\n",
    "plt.xlabel('Status', fontsize=15, color='#696969')\n",
    "plt.ylabel('Ocorrências', fontsize=15, color='#696969')\n",
    "\n",
    "plt.gca().set_facecolor('#E0E0E0')\n",
    "plt.gcf().set_facecolor('#E0E0E0')\n",
    "\n",
    "plt.show()"
   ]
  },
  {
   "cell_type": "markdown",
   "metadata": {},
   "source": [
    "### 3.2 - Dados numéricos"
   ]
  },
  {
   "cell_type": "code",
   "execution_count": 39,
   "metadata": {},
   "outputs": [],
   "source": [
    "variaveis_numericas = []\n",
    "for i in bd_novo.columns[0:16].tolist():\n",
    "        if bd_novo.dtypes[i] == 'int64' or bd_novo.dtypes[i] == 'float64':                        \n",
    "            variaveis_numericas.append(i)  "
   ]
  },
  {
   "cell_type": "code",
   "execution_count": 40,
   "metadata": {},
   "outputs": [
    {
     "data": {
      "image/png": "[encoded data removed]",
      "text/plain": [
       "<Figure size 1400x2000 with 10 Axes>"
      ]
     },
     "metadata": {},
     "output_type": "display_data"
    }
   ],
   "source": [
    "# Possíveis outliers.\n",
    "\n",
    "plt.rcParams[\"figure.figsize\"] = [14,20]\n",
    "plt.rcParams[\"figure.autolayout\"] = True\n",
    "f, axes = plt.subplots(5, 2)\n",
    "\n",
    "linha = 0\n",
    "coluna = 0\n",
    "for i in variaveis_numericas:\n",
    "    sns.boxplot(data = bd_novo, y=i, ax=axes[linha][coluna])\n",
    "    coluna += 1\n",
    "    if coluna == 2:\n",
    "        linha += 1\n",
    "        coluna = 0            \n",
    "\n",
    "plt.show()"
   ]
  },
  {
   "cell_type": "code",
   "execution_count": 41,
   "metadata": {},
   "outputs": [],
   "source": [
    "# Começando o OHE\n",
    "\n",
    "variaveis_categoricas = []\n",
    "for i in bd_novo.columns[0:16].tolist(): # até o 16, pois não precisa fazer na variável alvo\n",
    "        if bd_novo.dtypes[i] == 'object' or bd_novo.dtypes[i] == 'category':                        \n",
    "            variaveis_categoricas.append(i)  "
   ]
  },
  {
   "cell_type": "code",
   "execution_count": 42,
   "metadata": {},
   "outputs": [],
   "source": [
    "lb = LabelEncoder()\n",
    "\n",
    "for var in variaveis_categoricas:\n",
    "    bd_novo[var] = lb.fit_transform(bd_novo[var])"
   ]
  },
  {
   "cell_type": "code",
   "execution_count": 43,
   "metadata": {},
   "outputs": [
    {
     "data": {
      "text/html": [
       "<div>\n",
       "<style scoped>\n",
       "    .dataframe tbody tr th:only-of-type {\n",
       "        vertical-align: middle;\n",
       "    }\n",
       "\n",
       "    .dataframe tbody tr th {\n",
       "        vertical-align: top;\n",
       "    }\n",
       "\n",
       "    .dataframe thead th {\n",
       "        text-align: right;\n",
       "    }\n",
       "</style>\n",
       "<table border=\"1\" class=\"dataframe\">\n",
       "  <thead>\n",
       "    <tr style=\"text-align: right;\">\n",
       "      <th></th>\n",
       "      <th>UF_Cliente</th>\n",
       "      <th>Perc_Juros</th>\n",
       "      <th>VL_Emprestimo</th>\n",
       "      <th>VL_Emprestimo_ComJuros</th>\n",
       "      <th>QT_Total_Parcelas_Pagas</th>\n",
       "      <th>QT_Total_Parcelas_Pagas_EmDia</th>\n",
       "      <th>QT_Total_Parcelas_Pagas_EmAtraso</th>\n",
       "      <th>Qt_Renegociacao</th>\n",
       "      <th>QT_Parcelas_Atraso</th>\n",
       "      <th>Saldo_Devedor</th>\n",
       "      <th>Total_Pago</th>\n",
       "      <th>Faixa_Prazo_Restante</th>\n",
       "      <th>Faixa_Salarial</th>\n",
       "      <th>Faixa_Prazo_Emprestimo</th>\n",
       "      <th>Faixa_Etaria</th>\n",
       "      <th>Faixa_Dias_Atraso</th>\n",
       "      <th>Possivel_Fraude</th>\n",
       "    </tr>\n",
       "  </thead>\n",
       "  <tbody>\n",
       "    <tr>\n",
       "      <th>0</th>\n",
       "      <td>25</td>\n",
       "      <td>23.0</td>\n",
       "      <td>80000.0</td>\n",
       "      <td>92000.0</td>\n",
       "      <td>15</td>\n",
       "      <td>9</td>\n",
       "      <td>1</td>\n",
       "      <td>0</td>\n",
       "      <td>0</td>\n",
       "      <td>91759.97</td>\n",
       "      <td>7717.08</td>\n",
       "      <td>2</td>\n",
       "      <td>7</td>\n",
       "      <td>2</td>\n",
       "      <td>4</td>\n",
       "      <td>3</td>\n",
       "      <td>Nao</td>\n",
       "    </tr>\n",
       "    <tr>\n",
       "      <th>1</th>\n",
       "      <td>10</td>\n",
       "      <td>20.0</td>\n",
       "      <td>50000.0</td>\n",
       "      <td>57500.0</td>\n",
       "      <td>10</td>\n",
       "      <td>10</td>\n",
       "      <td>0</td>\n",
       "      <td>0</td>\n",
       "      <td>4</td>\n",
       "      <td>53981.18</td>\n",
       "      <td>6756.59</td>\n",
       "      <td>3</td>\n",
       "      <td>3</td>\n",
       "      <td>3</td>\n",
       "      <td>2</td>\n",
       "      <td>6</td>\n",
       "      <td>Nao</td>\n",
       "    </tr>\n",
       "    <tr>\n",
       "      <th>2</th>\n",
       "      <td>4</td>\n",
       "      <td>18.0</td>\n",
       "      <td>100000.0</td>\n",
       "      <td>115000.0</td>\n",
       "      <td>15</td>\n",
       "      <td>5</td>\n",
       "      <td>1</td>\n",
       "      <td>0</td>\n",
       "      <td>0</td>\n",
       "      <td>101150.02</td>\n",
       "      <td>17929.06</td>\n",
       "      <td>3</td>\n",
       "      <td>6</td>\n",
       "      <td>3</td>\n",
       "      <td>3</td>\n",
       "      <td>3</td>\n",
       "      <td>Nao</td>\n",
       "    </tr>\n",
       "    <tr>\n",
       "      <th>3</th>\n",
       "      <td>10</td>\n",
       "      <td>20.0</td>\n",
       "      <td>30000.0</td>\n",
       "      <td>34500.0</td>\n",
       "      <td>1</td>\n",
       "      <td>1</td>\n",
       "      <td>0</td>\n",
       "      <td>0</td>\n",
       "      <td>13</td>\n",
       "      <td>36208.10</td>\n",
       "      <td>369.10</td>\n",
       "      <td>3</td>\n",
       "      <td>3</td>\n",
       "      <td>3</td>\n",
       "      <td>1</td>\n",
       "      <td>0</td>\n",
       "      <td>Sim</td>\n",
       "    </tr>\n",
       "    <tr>\n",
       "      <th>4</th>\n",
       "      <td>10</td>\n",
       "      <td>20.0</td>\n",
       "      <td>60000.0</td>\n",
       "      <td>69000.0</td>\n",
       "      <td>16</td>\n",
       "      <td>16</td>\n",
       "      <td>0</td>\n",
       "      <td>0</td>\n",
       "      <td>0</td>\n",
       "      <td>60984.00</td>\n",
       "      <td>11845.24</td>\n",
       "      <td>3</td>\n",
       "      <td>5</td>\n",
       "      <td>3</td>\n",
       "      <td>5</td>\n",
       "      <td>3</td>\n",
       "      <td>Nao</td>\n",
       "    </tr>\n",
       "  </tbody>\n",
       "</table>\n",
       "</div>"
      ],
      "text/plain": [
       "   UF_Cliente  Perc_Juros  VL_Emprestimo  VL_Emprestimo_ComJuros  \\\n",
       "0          25        23.0        80000.0                 92000.0   \n",
       "1          10        20.0        50000.0                 57500.0   \n",
       "2           4        18.0       100000.0                115000.0   \n",
       "3          10        20.0        30000.0                 34500.0   \n",
       "4          10        20.0        60000.0                 69000.0   \n",
       "\n",
       "   QT_Total_Parcelas_Pagas  QT_Total_Parcelas_Pagas_EmDia  \\\n",
       "0                       15                              9   \n",
       "1                       10                             10   \n",
       "2                       15                              5   \n",
       "3                        1                              1   \n",
       "4                       16                             16   \n",
       "\n",
       "   QT_Total_Parcelas_Pagas_EmAtraso  Qt_Renegociacao  QT_Parcelas_Atraso  \\\n",
       "0                                 1                0                   0   \n",
       "1                                 0                0                   4   \n",
       "2                                 1                0                   0   \n",
       "3                                 0                0                  13   \n",
       "4                                 0                0                   0   \n",
       "\n",
       "   Saldo_Devedor  Total_Pago  Faixa_Prazo_Restante  Faixa_Salarial  \\\n",
       "0       91759.97     7717.08                     2               7   \n",
       "1       53981.18     6756.59                     3               3   \n",
       "2      101150.02    17929.06                     3               6   \n",
       "3       36208.10      369.10                     3               3   \n",
       "4       60984.00    11845.24                     3               5   \n",
       "\n",
       "   Faixa_Prazo_Emprestimo  Faixa_Etaria  Faixa_Dias_Atraso Possivel_Fraude  \n",
       "0                       2             4                  3             Nao  \n",
       "1                       3             2                  6             Nao  \n",
       "2                       3             3                  3             Nao  \n",
       "3                       3             1                  0             Sim  \n",
       "4                       3             5                  3             Nao  "
      ]
     },
     "execution_count": 43,
     "metadata": {},
     "output_type": "execute_result"
    }
   ],
   "source": [
    "bd_novo.head()"
   ]
  },
  {
   "cell_type": "code",
   "execution_count": 44,
   "metadata": {},
   "outputs": [
    {
     "data": {
      "text/plain": [
       "UF_Cliente                          0\n",
       "Perc_Juros                          0\n",
       "VL_Emprestimo                       0\n",
       "VL_Emprestimo_ComJuros              0\n",
       "QT_Total_Parcelas_Pagas             0\n",
       "QT_Total_Parcelas_Pagas_EmDia       0\n",
       "QT_Total_Parcelas_Pagas_EmAtraso    0\n",
       "Qt_Renegociacao                     0\n",
       "QT_Parcelas_Atraso                  0\n",
       "Saldo_Devedor                       0\n",
       "Total_Pago                          0\n",
       "Faixa_Prazo_Restante                0\n",
       "Faixa_Salarial                      0\n",
       "Faixa_Prazo_Emprestimo              0\n",
       "Faixa_Etaria                        0\n",
       "Faixa_Dias_Atraso                   0\n",
       "Possivel_Fraude                     0\n",
       "dtype: int64"
      ]
     },
     "execution_count": 44,
     "metadata": {},
     "output_type": "execute_result"
    }
   ],
   "source": [
    "bd_novo.isnull().sum()"
   ]
  },
  {
   "cell_type": "code",
   "execution_count": 45,
   "metadata": {},
   "outputs": [
    {
     "name": "stdout",
     "output_type": "stream",
     "text": [
      "<class 'pandas.core.frame.DataFrame'>\n",
      "RangeIndex: 9517 entries, 0 to 9516\n",
      "Data columns (total 17 columns):\n",
      " #   Column                            Non-Null Count  Dtype  \n",
      "---  ------                            --------------  -----  \n",
      " 0   UF_Cliente                        9517 non-null   int64  \n",
      " 1   Perc_Juros                        9517 non-null   float64\n",
      " 2   VL_Emprestimo                     9517 non-null   float64\n",
      " 3   VL_Emprestimo_ComJuros            9517 non-null   float64\n",
      " 4   QT_Total_Parcelas_Pagas           9517 non-null   int64  \n",
      " 5   QT_Total_Parcelas_Pagas_EmDia     9517 non-null   int64  \n",
      " 6   QT_Total_Parcelas_Pagas_EmAtraso  9517 non-null   int64  \n",
      " 7   Qt_Renegociacao                   9517 non-null   int64  \n",
      " 8   QT_Parcelas_Atraso                9517 non-null   int64  \n",
      " 9   Saldo_Devedor                     9517 non-null   float64\n",
      " 10  Total_Pago                        9517 non-null   float64\n",
      " 11  Faixa_Prazo_Restante              9517 non-null   int64  \n",
      " 12  Faixa_Salarial                    9517 non-null   int64  \n",
      " 13  Faixa_Prazo_Emprestimo            9517 non-null   int64  \n",
      " 14  Faixa_Etaria                      9517 non-null   int64  \n",
      " 15  Faixa_Dias_Atraso                 9517 non-null   int64  \n",
      " 16  Possivel_Fraude                   9517 non-null   object \n",
      "dtypes: float64(5), int64(11), object(1)\n",
      "memory usage: 1.2+ MB\n"
     ]
    }
   ],
   "source": [
    "bd_novo.info()"
   ]
  },
  {
   "cell_type": "code",
   "execution_count": 46,
   "metadata": {},
   "outputs": [
    {
     "data": {
      "text/plain": [
       "Possivel_Fraude\n",
       "Nao    5035\n",
       "Sim    4482\n",
       "Name: count, dtype: int64"
      ]
     },
     "execution_count": 46,
     "metadata": {},
     "output_type": "execute_result"
    }
   ],
   "source": [
    "# A variável alvo vai precisar de balanceamento.\n",
    "\n",
    "bd_novo.Possivel_Fraude.value_counts()"
   ]
  },
  {
   "cell_type": "code",
   "execution_count": 47,
   "metadata": {},
   "outputs": [],
   "source": [
    "# Separar variaveis preditoras e target\n",
    "\n",
    "PREDITORAS = bd_novo.iloc[:, 0:16]  \n",
    "TARGET = bd_novo.iloc[:, 16] "
   ]
  },
  {
   "cell_type": "code",
   "execution_count": 48,
   "metadata": {},
   "outputs": [],
   "source": [
    "seed = 100\n",
    "\n",
    "balanceador = SMOTE(random_state=seed)\n",
    "\n",
    "RES_PREDITORAS, RES_TARGET = balanceador.fit_resample(PREDITORAS, TARGET)"
   ]
  },
  {
   "cell_type": "code",
   "execution_count": 49,
   "metadata": {},
   "outputs": [
    {
     "name": "stdout",
     "output_type": "stream",
     "text": [
      "RES_PREDITORAS: (10070, 16)\n",
      "RES_TARGET: (10070,)\n",
      "------------------------------------------------------------\n",
      "PREDITORAS: (9517, 16)\n",
      "TARGET: (9517,)\n"
     ]
    }
   ],
   "source": [
    "print(f'RES_PREDITORAS: {RES_PREDITORAS.shape}')\n",
    "print(f'RES_TARGET: {RES_TARGET.shape}')\n",
    "print('--'*30)\n",
    "print(f'PREDITORAS: {PREDITORAS.shape}')\n",
    "print(f'TARGET: {TARGET.shape}')"
   ]
  },
  {
   "cell_type": "code",
   "execution_count": 50,
   "metadata": {},
   "outputs": [],
   "source": [
    "X_train, X_test, y_train, y_test = train_test_split(RES_PREDITORAS, RES_TARGET, test_size=0.33, random_state=42) "
   ]
  },
  {
   "cell_type": "code",
   "execution_count": 51,
   "metadata": {},
   "outputs": [],
   "source": [
    "# Normalização das Variáveis\n",
    "\n",
    "Normalizador = MinMaxScaler()\n",
    "X_treino_normalizados = Normalizador.fit_transform(X_train)\n",
    "X_teste_normalizados = Normalizador.transform(X_test)"
   ]
  },
  {
   "cell_type": "markdown",
   "metadata": {},
   "source": [
    "## 4 - Modelos de machine learning\n",
    "\n",
    "### 4.1 - RadomForest"
   ]
  },
  {
   "cell_type": "code",
   "execution_count": 52,
   "metadata": {},
   "outputs": [],
   "source": [
    "randomforest = RandomForestClassifier()"
   ]
  },
  {
   "cell_type": "code",
   "execution_count": 77,
   "metadata": {},
   "outputs": [
    {
     "name": "stdout",
     "output_type": "stream",
     "text": [
      "Acurácia em Treinamento: 99.30%\n",
      "\n",
      "Hiperparâmetros Ideais: {'criterion': np.str_('entropy'), 'max_depth': np.int64(10), 'max_features': 'sqrt', 'min_samples_leaf': np.int64(2), 'min_samples_split': np.int64(2), 'n_estimators': np.int64(200)}\n",
      "\n",
      "Tempo de Treinamento do Modelo:  101.9\n",
      "\n",
      "Numero de treinamentos realizados:  324\n"
     ]
    }
   ],
   "source": [
    "n_estimators = np.array([100,200,300])\n",
    "max_depth = np.array([10,20])\n",
    "criterion = np.array([\"gini\", \"entropy\"])\n",
    "max_features = np.array([\"sqrt\", \"log2\", None])\n",
    "min_samples_split = np.array([1,2,5])\n",
    "min_samples_leaf = np.array([1,2,3])\n",
    "\n",
    "\n",
    "# Grid de hiperparâmetros\n",
    "grid_parametros = dict(\n",
    "    n_estimators=n_estimators,\n",
    "    max_depth=max_depth,\n",
    "    criterion=criterion,\n",
    "    max_features=max_features,\n",
    "    min_samples_split=min_samples_split,\n",
    "    min_samples_leaf=min_samples_leaf\n",
    ")\n",
    "\n",
    "\n",
    "# Criando o modelo com o Grid de Hiperparametros\n",
    "randomForest = GridSearchCV(randomforest, grid_parametros, cv = 3, n_jobs = 6)\n",
    "\n",
    "# Treinando os modelos\n",
    "inicio = time.time()\n",
    "randomForest.fit(X_treino_normalizados, y_train)\n",
    "fim = time.time()\n",
    "\n",
    "# Obtendo e visualizando os parametros treinados\n",
    "treinos_rf = pd.DataFrame(randomForest.cv_results_)\n",
    "\n",
    "print(f\"Acurácia em Treinamento: {randomForest.best_score_ :.2%}\")\n",
    "print(\"\")\n",
    "print(f\"Hiperparâmetros Ideais: {randomForest.best_params_}\")\n",
    "print(\"\")\n",
    "print(\"Tempo de Treinamento do Modelo: \", round(fim - inicio,2))\n",
    "print(\"\")\n",
    "print(\"Numero de treinamentos realizados: \", treinos_rf.shape[0])"
   ]
  },
  {
   "cell_type": "code",
   "execution_count": 78,
   "metadata": {},
   "outputs": [],
   "source": [
    "clf = RandomForestClassifier(\n",
    "    n_estimators=200,\n",
    "    criterion='entropy',\n",
    "    max_depth=10,\n",
    "    max_features='sqrt',\n",
    "    min_samples_leaf=2,\n",
    "    min_samples_split=2,\n",
    "    n_jobs=6\n",
    ")\n",
    "\n",
    "clf = clf.fit(X_treino_normalizados, y_train)\n"
   ]
  },
  {
   "cell_type": "code",
   "execution_count": 80,
   "metadata": {},
   "outputs": [
    {
     "name": "stdout",
     "output_type": "stream",
     "text": [
      "Score com os melhores hiperparâmetros de treino: 99.87%\n"
     ]
    }
   ],
   "source": [
    "scores = clf.score(X_treino_normalizados,y_train)\n",
    "print(f\"Score com os melhores hiperparâmetros de treino: {scores :.2%}\")"
   ]
  },
  {
   "cell_type": "code",
   "execution_count": 81,
   "metadata": {},
   "outputs": [
    {
     "name": "stdout",
     "output_type": "stream",
     "text": [
      "Score com os melhores hiperparâmetros de teste: 99.04%\n"
     ]
    }
   ],
   "source": [
    "scores = clf.score(X_teste_normalizados,y_test)\n",
    "print(f\"Score com os melhores hiperparâmetros de teste: {scores :.2%}\")"
   ]
  },
  {
   "cell_type": "code",
   "execution_count": 57,
   "metadata": {},
   "outputs": [
    {
     "data": {
      "image/png": "[encoded data removed]",
      "text/plain": [
       "<Figure size 1000x600 with 1 Axes>"
      ]
     },
     "metadata": {},
     "output_type": "display_data"
    }
   ],
   "source": [
    "plt.figure(figsize=(10, 6))\n",
    "\n",
    "importances = pd.Series(data=clf.feature_importances_, index=PREDITORAS.columns)\n",
    "importances = importances.sort_values(ascending=False)\n",
    "sns.barplot(x=importances, y=importances.index, orient='h', palette='rocket_r')\n",
    "\n",
    "plt.title('Importância de cada variável', fontsize=20, loc='left')\n",
    "plt.xlabel('Importância', fontsize=15, color='#696969')\n",
    "plt.ylabel('Variável', fontsize=15, color='#696969')\n",
    "\n",
    "plt.gca().set_facecolor('#E0E0E0')\n",
    "plt.gcf().set_facecolor('#E0E0E0')\n",
    "\n",
    "plt.show()"
   ]
  },
  {
   "cell_type": "code",
   "execution_count": 58,
   "metadata": {},
   "outputs": [
    {
     "data": {
      "text/plain": [
       "QT_Parcelas_Atraso                  0.414625\n",
       "QT_Total_Parcelas_Pagas             0.308776\n",
       "Total_Pago                          0.093531\n",
       "QT_Total_Parcelas_Pagas_EmDia       0.057647\n",
       "Faixa_Dias_Atraso                   0.030646\n",
       "Qt_Renegociacao                     0.029341\n",
       "QT_Total_Parcelas_Pagas_EmAtraso    0.020002\n",
       "Saldo_Devedor                       0.015544\n",
       "VL_Emprestimo                       0.007476\n",
       "VL_Emprestimo_ComJuros              0.006796\n",
       "Perc_Juros                          0.005768\n",
       "UF_Cliente                          0.003223\n",
       "Faixa_Salarial                      0.002285\n",
       "Faixa_Etaria                        0.001655\n",
       "Faixa_Prazo_Emprestimo              0.001455\n",
       "Faixa_Prazo_Restante                0.001231\n",
       "dtype: float64"
      ]
     },
     "execution_count": 58,
     "metadata": {},
     "output_type": "execute_result"
    }
   ],
   "source": [
    "importances.sort_values(ascending = False)"
   ]
  },
  {
   "cell_type": "code",
   "execution_count": 85,
   "metadata": {},
   "outputs": [],
   "source": [
    "modelo_rf = {\n",
    "    'Numero de Modelos Treinados': treinos_rf.shape[0],\n",
    "    'Melhor Score': str(round(randomForest.best_score_ * 100, 2)) + \"%\"\n",
    "}"
   ]
  },
  {
   "cell_type": "markdown",
   "metadata": {},
   "source": [
    "### 4.2 - SVM"
   ]
  },
  {
   "cell_type": "code",
   "execution_count": 60,
   "metadata": {},
   "outputs": [],
   "source": [
    "modelo_svm = SVC()"
   ]
  },
  {
   "cell_type": "code",
   "execution_count": 61,
   "metadata": {},
   "outputs": [
    {
     "name": "stdout",
     "output_type": "stream",
     "text": [
      "Acurácia em Treinamento: 99.07%\n",
      "\n",
      "Hiperparâmetros Ideais: {'C': 100, 'coef0': 0.5, 'decision_function_shape': 'ovo', 'degree': 2, 'gamma': 1, 'kernel': 'linear', 'max_iter': -1}\n",
      "\n",
      "Tempo de Treinamento do Modelo:  186.1\n",
      "\n",
      "Numero de treinamentos realizados:  1536\n"
     ]
    }
   ],
   "source": [
    "grid_parametros = {\n",
    "    'C': [0.1, 1, 10, 100],\n",
    "    'gamma': [1, 0.1, 0.01, 0.001],\n",
    "    'kernel': ['poly', 'rbf', 'sigmoid', 'linear'],\n",
    "    'degree': [2, 3, 4],\n",
    "    'coef0': [0.5, 1],\n",
    "    'decision_function_shape': ['ovo', 'ovr'],\n",
    "    'max_iter': [-1, 1]\n",
    "}\n",
    "\n",
    "svm = GridSearchCV(modelo_svm, grid_parametros, n_jobs = 6)\n",
    "\n",
    "inicio = time.time()\n",
    "svm.fit(X_treino_normalizados, y_train)\n",
    "fim = time.time()\n",
    "\n",
    "treinos_svm = pd.DataFrame(svm.cv_results_)\n",
    "\n",
    "print(f\"Acurácia em Treinamento: {svm.best_score_ :.2%}\")\n",
    "print(\"\")\n",
    "print(f\"Hiperparâmetros Ideais: {svm.best_params_}\")\n",
    "print(\"\")\n",
    "print(\"Tempo de Treinamento do Modelo: \", round(fim - inicio,2))\n",
    "print(\"\")\n",
    "print(\"Numero de treinamentos realizados: \", treinos_svm.shape[0])"
   ]
  },
  {
   "cell_type": "code",
   "execution_count": 62,
   "metadata": {},
   "outputs": [],
   "source": [
    "clf2 = SVC(\n",
    "    C=100, \n",
    "    coef0= 0.5, \n",
    "    decision_function_shape='ovo', \n",
    "    degree=2, \n",
    "    gamma=1, \n",
    "    kernel='linear', \n",
    "    max_iter=-1\n",
    ")\n",
    "\n",
    "clf2 = clf2.fit(X_treino_normalizados, y_train)"
   ]
  },
  {
   "cell_type": "code",
   "execution_count": 63,
   "metadata": {},
   "outputs": [
    {
     "name": "stdout",
     "output_type": "stream",
     "text": [
      "Score com os melhores hiperparâmetros de treino: 99.17%\n"
     ]
    }
   ],
   "source": [
    "scores2 = clf2.score(X_treino_normalizados,y_train)\n",
    "print(f\"Score com os melhores hiperparâmetros de treino: {scores2 :.2%}\")"
   ]
  },
  {
   "cell_type": "code",
   "execution_count": 64,
   "metadata": {},
   "outputs": [
    {
     "name": "stdout",
     "output_type": "stream",
     "text": [
      "Score com os melhores hiperparâmetros de teste: 98.71%\n"
     ]
    }
   ],
   "source": [
    "scores2 = clf2.score(X_teste_normalizados,y_test)\n",
    "print(f\"Score com os melhores hiperparâmetros de teste: {scores2 :.2%}\")"
   ]
  },
  {
   "cell_type": "code",
   "execution_count": 84,
   "metadata": {},
   "outputs": [],
   "source": [
    "modelo_svm = {\n",
    "    'Numero de Modelos Treinados': treinos_svm.shape[0],\n",
    "    'Melhor Score': str(round(svm.best_score_ * 100, 2)) + \"%\"\n",
    "}"
   ]
  },
  {
   "cell_type": "markdown",
   "metadata": {},
   "source": [
    "### 4.3 - KNN"
   ]
  },
  {
   "cell_type": "code",
   "execution_count": 66,
   "metadata": {},
   "outputs": [],
   "source": [
    "knn = KNeighborsClassifier()"
   ]
  },
  {
   "cell_type": "code",
   "execution_count": 67,
   "metadata": {},
   "outputs": [
    {
     "name": "stdout",
     "output_type": "stream",
     "text": [
      "Acurácia em Treinamento: 97.47%\n",
      "\n",
      "Hiperparâmetros Ideais: {'algorithm': np.str_('auto'), 'leaf_size': np.int64(30), 'metric': np.str_('minkowski'), 'n_neighbors': np.int64(3)}\n",
      "\n",
      "Tempo de Treinamento do Modelo:  8.41\n",
      "\n",
      "Numero de treinamentos realizados:  120\n"
     ]
    }
   ],
   "source": [
    "n_neighbors = np.array([3,4,5,6,7])\n",
    "algorithm = np.array(['auto', 'ball_tree', 'kd_tree', 'brute'])\n",
    "leaf_size = np.array([30,31,32])\n",
    "metric =  np.array(['minkowski','euclidean'])\n",
    "\n",
    "grid_parametros = dict(\n",
    "    n_neighbors=n_neighbors,\n",
    "    algorithm=algorithm,\n",
    "    leaf_size=leaf_size,\n",
    "    metric=metric\n",
    ")\n",
    "\n",
    "knn = GridSearchCV(knn, grid_parametros, n_jobs = 8)\n",
    "\n",
    "# Treinando os modelos\n",
    "inicio = time.time()\n",
    "knn.fit(X_treino_normalizados, y_train)\n",
    "fim = time.time()\n",
    "\n",
    "# Obtendo e visualizando os parametros treinados\n",
    "treinos_knn = pd.DataFrame(knn.cv_results_)\n",
    "\n",
    "print(f\"Acurácia em Treinamento: {knn.best_score_ :.2%}\")\n",
    "print(\"\")\n",
    "print(f\"Hiperparâmetros Ideais: {knn.best_params_}\")\n",
    "print(\"\")\n",
    "print(\"Tempo de Treinamento do Modelo: \", round(fim - inicio,2))\n",
    "print(\"\")\n",
    "print(\"Numero de treinamentos realizados: \", treinos_knn.shape[0])"
   ]
  },
  {
   "cell_type": "code",
   "execution_count": 68,
   "metadata": {},
   "outputs": [],
   "source": [
    "clf3 = KNeighborsClassifier(\n",
    "    algorithm='auto', \n",
    "    leaf_size= 30, \n",
    "    metric='minkowski', \n",
    "    n_neighbors=3, \n",
    ")\n",
    "\n",
    "clf3 = clf3.fit(X_treino_normalizados, y_train)"
   ]
  },
  {
   "cell_type": "code",
   "execution_count": 69,
   "metadata": {},
   "outputs": [
    {
     "name": "stdout",
     "output_type": "stream",
     "text": [
      "Score com os melhores hiperparâmetros de treino: 98.77%\n"
     ]
    }
   ],
   "source": [
    "scores3 = clf3.score(X_treino_normalizados,y_train)\n",
    "print(f\"Score com os melhores hiperparâmetros de treino: {scores3 :.2%}\")"
   ]
  },
  {
   "cell_type": "code",
   "execution_count": 70,
   "metadata": {},
   "outputs": [
    {
     "name": "stdout",
     "output_type": "stream",
     "text": [
      "Score com os melhores hiperparâmetros de teste: 96.93%\n"
     ]
    }
   ],
   "source": [
    "scores3 = clf3.score(X_teste_normalizados,y_test)\n",
    "print(f\"Score com os melhores hiperparâmetros de teste: {scores3 :.2%}\")"
   ]
  },
  {
   "cell_type": "code",
   "execution_count": 83,
   "metadata": {},
   "outputs": [],
   "source": [
    "modelo_knn = {\n",
    "    'Numero de Modelos Treinados': treinos_knn.shape[0],\n",
    "    'Melhor Score': str(round(knn.best_score_ * 100, 2)) + \"%\"\n",
    "}"
   ]
  },
  {
   "cell_type": "markdown",
   "metadata": {},
   "source": [
    "## 5 - Conclusão"
   ]
  },
  {
   "cell_type": "code",
   "execution_count": 88,
   "metadata": {},
   "outputs": [],
   "source": [
    "conclusao = pd.DataFrame({\n",
    "    'Random Forest': pd.Series(modelo_rf),\n",
    "    'SVM': pd.Series(modelo_svm),\n",
    "    'KNN': pd.Series(modelo_knn)\n",
    "})\n"
   ]
  },
  {
   "cell_type": "code",
   "execution_count": 89,
   "metadata": {},
   "outputs": [
    {
     "data": {
      "text/html": [
       "<div>\n",
       "<style scoped>\n",
       "    .dataframe tbody tr th:only-of-type {\n",
       "        vertical-align: middle;\n",
       "    }\n",
       "\n",
       "    .dataframe tbody tr th {\n",
       "        vertical-align: top;\n",
       "    }\n",
       "\n",
       "    .dataframe thead th {\n",
       "        text-align: right;\n",
       "    }\n",
       "</style>\n",
       "<table border=\"1\" class=\"dataframe\">\n",
       "  <thead>\n",
       "    <tr style=\"text-align: right;\">\n",
       "      <th></th>\n",
       "      <th>Random Forest</th>\n",
       "      <th>SVM</th>\n",
       "      <th>KNN</th>\n",
       "    </tr>\n",
       "  </thead>\n",
       "  <tbody>\n",
       "    <tr>\n",
       "      <th>Numero de Modelos Treinados</th>\n",
       "      <td>324</td>\n",
       "      <td>1536</td>\n",
       "      <td>120</td>\n",
       "    </tr>\n",
       "    <tr>\n",
       "      <th>Melhor Score</th>\n",
       "      <td>99.3%</td>\n",
       "      <td>99.07%</td>\n",
       "      <td>97.47%</td>\n",
       "    </tr>\n",
       "  </tbody>\n",
       "</table>\n",
       "</div>"
      ],
      "text/plain": [
       "                            Random Forest     SVM     KNN\n",
       "Numero de Modelos Treinados           324    1536     120\n",
       "Melhor Score                        99.3%  99.07%  97.47%"
      ]
     },
     "execution_count": 89,
     "metadata": {},
     "output_type": "execute_result"
    }
   ],
   "source": [
    "conclusao"
   ]
  }
 ],
 "metadata": {
  "kernelspec": {
   "display_name": "teste",
   "language": "python",
   "name": "python3"
  },
  "language_info": {
   "codemirror_mode": {
    "name": "ipython",
    "version": 3
   },
   "file_extension": ".py",
   "mimetype": "text/x-python",
   "name": "python",
   "nbconvert_exporter": "python",
   "pygments_lexer": "ipython3",
   "version": "3.12.8"
  }
 },
 "nbformat": 4,
 "nbformat_minor": 2
}
